{
 "cells": [
  {
   "cell_type": "code",
   "execution_count": 4,
   "metadata": {},
   "outputs": [
    {
     "name": "stdout",
     "output_type": "stream",
     "text": [
      "Collecting package metadata (current_repodata.json): done\n",
      "Solving environment: done\n",
      "\n",
      "## Package Plan ##\n",
      "\n",
      "  environment location: /Users/celiaji/opt/anaconda3\n",
      "\n",
      "  added / updated specs:\n",
      "    - pymongo\n",
      "\n",
      "\n",
      "The following packages will be downloaded:\n",
      "\n",
      "    package                    |            build\n",
      "    ---------------------------|-----------------\n",
      "    conda-4.8.3                |           py37_0         2.8 MB\n",
      "    pymongo-3.9.0              |   py37h0a44026_0         1.1 MB\n",
      "    ------------------------------------------------------------\n",
      "                                           Total:         3.9 MB\n",
      "\n",
      "The following NEW packages will be INSTALLED:\n",
      "\n",
      "  pymongo            pkgs/main/osx-64::pymongo-3.9.0-py37h0a44026_0\n",
      "\n",
      "The following packages will be UPDATED:\n",
      "\n",
      "  conda                                       4.7.12-py37_0 --> 4.8.3-py37_0\n",
      "\n",
      "\n",
      "\n",
      "Downloading and Extracting Packages\n",
      "conda-4.8.3          | 2.8 MB    | ##################################### | 100% \n",
      "pymongo-3.9.0        | 1.1 MB    | ##################################### | 100% \n",
      "Preparing transaction: done\n",
      "Verifying transaction: done\n",
      "Executing transaction: done\n",
      "\n",
      "Note: you may need to restart the kernel to use updated packages.\n"
     ]
    }
   ],
   "source": [
    "conda install pymongo"
   ]
  },
  {
   "cell_type": "code",
   "execution_count": 5,
   "metadata": {},
   "outputs": [],
   "source": [
    "import pymongo\n",
    "connection = pymongo.MongoClient('localhost',27017)"
   ]
  },
  {
   "cell_type": "code",
   "execution_count": 65,
   "metadata": {},
   "outputs": [],
   "source": [
    "#create database and 2 collections\n",
    "database = connection['elibrary']\n",
    "collection_ebook = database['ebook']\n",
    "collection_euser = database['euser']"
   ]
  },
  {
   "cell_type": "code",
   "execution_count": 66,
   "metadata": {},
   "outputs": [
    {
     "data": {
      "text/plain": [
       "<pymongo.results.InsertOneResult at 0x103832280>"
      ]
     },
     "execution_count": 66,
     "metadata": {},
     "output_type": "execute_result"
    }
   ],
   "source": [
    "#insert data into ebook\n",
    "collection_ebook.insert_one({'title':'Harry Potter',\n",
    "                 'primary_author':'J.K. Rowling',\n",
    "                 'secondary_authors':'NA',\n",
    "                 'date_of_first_publication':'1997-06-26',\n",
    "                 'number_of_pages':390,\n",
    "                 'publisher':'Bloomsbury Publishing',\n",
    "                 'translator':'Sevin Okyay',\n",
    "                 'topics':'fiction',\n",
    "                 'checkout_time':'2020-03-01'})\n",
    "\n",
    "collection_ebook.insert_one({'title':'Born a crime',\n",
    "                'primary_author':'Trevor Noah',\n",
    "                'secondary_authors':'NA',\n",
    "                'date_of_first_publication':'2018-08-16',\n",
    "                'number_of_pages':240,\n",
    "                'publisher':'New York Publishing',\n",
    "                'translator':'Micheal Gu',\n",
    "                'topics':'fiction',\n",
    "                'checkout_time':'2019-12-24'})\n",
    "\n",
    "collection_ebook.insert_one({'title':'Analytics in Python',\n",
    "                'primary_author':'Mike Russel',\n",
    "                'secondary_authors':'NA',\n",
    "                'date_of_first_publication':'2000-01-26',\n",
    "                'number_of_pages':310,\n",
    "                'publisher':'Person Publishing',\n",
    "                'translator':'Joseph Green',\n",
    "                'topics':['Machine Learning', 'Math'],\n",
    "                'checkout_time':['2020-03-15',\n",
    "                                '2020-03-10',\n",
    "                               '2020-03-12']})\n"
   ]
  },
  {
   "cell_type": "code",
   "execution_count": 67,
   "metadata": {},
   "outputs": [
    {
     "data": {
      "text/plain": [
       "<pymongo.results.InsertOneResult at 0x10382fd20>"
      ]
     },
     "execution_count": 67,
     "metadata": {},
     "output_type": "execute_result"
    }
   ],
   "source": [
    "#insert data into euser\n",
    "\n",
    "\n",
    "collection_euser.insert_one({'name':'Han Han',\n",
    "                'phone':'2128340293',\n",
    "                'address':'101W 108th Str, New York, NY 10025',\n",
    "                'university_affiliation':'NYU',\n",
    "                'title':'Harry Potter',\n",
    "                'topics':'fiction',\n",
    "                'checkout_time':'2020-03-01',\n",
    "                'comments':['interesting characters',\n",
    "                            'dramatic imagination', \n",
    "                            'will read again']})\n",
    "\n",
    "collection_euser.insert_one({'name':'Lang Lang',\n",
    "                'phone':'3122340293',\n",
    "                'address':'21E 23th Str, New York, NY 10058',\n",
    "                'university_affiliation':'Columbia University',\n",
    "                'title':'Born a crime',\n",
    "                'topics':'fiction',\n",
    "                'checkout_time':'2019-12-24',\n",
    "                'comments':['good story',\n",
    "                            'will recommend to others', \n",
    "                            'boring book']})\n",
    "\n",
    "collection_euser.insert_one({'name':'Xue Gu',\n",
    "                'phone':'4522340872',\n",
    "                'address':'128E 9th Str, New York, NY 10036',\n",
    "                'university_affiliation':'Columbia University',\n",
    "                'title':'Analytics in Python',\n",
    "                'topics':['Machine Learning', 'Math'],\n",
    "                'checkout_time':'2020-03-15',\n",
    "                'comments':['fit for beginners',\n",
    "                            'nice visualization', \n",
    "                            'many typos']})\n",
    "\n",
    "\n",
    "collection_euser.insert_one({'name':'Larry Lao',\n",
    "                'phone':'4522849172',\n",
    "                'address':'118E 168th Str, New York, NY 10436',\n",
    "                'university_affiliation':'Columbia University',\n",
    "                'title':'Analytics in Python',\n",
    "                'topics':['Machine Learning', 'Math'],\n",
    "                'checkout_time':'2020-03-10T09:00:00.000Z',\n",
    "                'comments':['help me in python',\n",
    "                            'good book', \n",
    "                            'too expensive']})\n",
    "\n",
    "collection_euser.insert_one({'name':'Terry Yang',\n",
    "                'phone':'4522840184',\n",
    "                'address':'108W 93th Str, New York, NY 10116',\n",
    "                'university_affiliation':'NYU',\n",
    "                'title':'Analytics in Python',\n",
    "                'topics':['Machine Learning', 'Math'],\n",
    "                'checkout_time':'2020-03-12T09:00:00.000Z',\n",
    "                'comments':['too hard for me',\n",
    "                            'need further explaination', \n",
    "                            'save for future study'] })\n"
   ]
  },
  {
   "cell_type": "code",
   "execution_count": 68,
   "metadata": {},
   "outputs": [
    {
     "name": "stdout",
     "output_type": "stream",
     "text": [
      "Harry Potter\n",
      "Analytics in Python\n"
     ]
    }
   ],
   "source": [
    "#1.Which books have been checked out since such and such date.    \n",
    "query1 = collection_ebook.find({'checkout_time': {\"$gte\": (\"2020-02-01\"), \"$lt\":(\"2020-04-21\")}})\n",
    "for x in query1:\n",
    "    print(x['title'])"
   ]
  },
  {
   "cell_type": "code",
   "execution_count": 69,
   "metadata": {},
   "outputs": [
    {
     "name": "stdout",
     "output_type": "stream",
     "text": [
      "Han Han\n",
      "Lang Lang\n"
     ]
    }
   ],
   "source": [
    "#2.Which users have checked out such and such book\n",
    "query2 = collection_euser.find({'title':{'$in':['Harry Potter','Born a crime']}})\n",
    "for x in query2:\n",
    "    print(x['name'])"
   ]
  },
  {
   "cell_type": "code",
   "execution_count": 70,
   "metadata": {},
   "outputs": [
    {
     "name": "stderr",
     "output_type": "stream",
     "text": [
      "/Users/celiaji/opt/anaconda3/lib/python3.7/site-packages/ipykernel_launcher.py:2: DeprecationWarning: count is deprecated. Use Collection.count_documents instead.\n",
      "  \n"
     ]
    },
    {
     "data": {
      "text/plain": [
       "3"
      ]
     },
     "execution_count": 70,
     "metadata": {},
     "output_type": "execute_result"
    }
   ],
   "source": [
    "#3.How many books does the library have on such and such topic\n",
    "collection_ebook.find({'topics':{'$in':['fiction','Math']}}).count()"
   ]
  },
  {
   "cell_type": "code",
   "execution_count": 78,
   "metadata": {},
   "outputs": [
    {
     "name": "stdout",
     "output_type": "stream",
     "text": [
      "Larry Lao\n"
     ]
    }
   ],
   "source": [
    "#4.Which users from Columbia University have checked out books on Machine Learning between this date and that date.\n",
    "query4 = collection_euser.find({'university_affiliation': 'Columbia University', \n",
    "                'topics': 'Machine Learning', \n",
    "                'checkout_time': \n",
    "                {'$gte': '2018-01-01T', '$lt': '2020-03-15'}})\n",
    "\n",
    "for x in query4:\n",
    "    print(x['name'])"
   ]
  },
  {
   "cell_type": "code",
   "execution_count": 72,
   "metadata": {},
   "outputs": [
    {
     "name": "stdout",
     "output_type": "stream",
     "text": [
      "['interesting characters', 'dramatic imagination', 'will read again']\n",
      "['good story', 'will recommend to others', 'boring book']\n"
     ]
    }
   ],
   "source": [
    "#5.What comments have been made by any User about such and such book between such and such dates, \n",
    "#ordered from the most recent to the least recent.\n",
    "query5 = collection_euser.find({'title': {'$in':['Harry Potter','Born a crime']},\n",
    "                               'checkout_time': {\"$gte\": (\"2019-02-01\"), \"$lt\":(\"2020-04-21\")}}).sort('checkout_time',-1)\n",
    "for x in query5:\n",
    "    print(x['comments'])"
   ]
  },
  {
   "cell_type": "code",
   "execution_count": 73,
   "metadata": {},
   "outputs": [
    {
     "name": "stdout",
     "output_type": "stream",
     "text": [
      "['too hard for me', 'need further explaination', 'save for future study']\n"
     ]
    }
   ],
   "source": [
    "#6.Show for a given User, what comments they have made about such and such book.\n",
    "query6 = collection_euser.find({'name':'Terry Yang','title':'Analytics in Python'})\n",
    "for x in query6:\n",
    "    print(x['comments'])"
   ]
  }
 ],
 "metadata": {
  "kernelspec": {
   "display_name": "Python 3",
   "language": "python",
   "name": "python3"
  },
  "language_info": {
   "codemirror_mode": {
    "name": "ipython",
    "version": 3
   },
   "file_extension": ".py",
   "mimetype": "text/x-python",
   "name": "python",
   "nbconvert_exporter": "python",
   "pygments_lexer": "ipython3",
   "version": "3.7.4"
  }
 },
 "nbformat": 4,
 "nbformat_minor": 2
}
